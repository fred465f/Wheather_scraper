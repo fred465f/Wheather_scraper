{
 "cells": [
  {
   "cell_type": "code",
   "execution_count": 39,
   "metadata": {},
   "outputs": [],
   "source": [
    "import requests\n",
    "from bs4 import BeautifulSoup\n",
    "import pandas as pd\n",
    "import re"
   ]
  },
  {
   "cell_type": "code",
   "execution_count": 6,
   "metadata": {},
   "outputs": [],
   "source": [
    "page = requests.get(\"https://weather.com/da-DK/weather/tenday/l/805cf27fe1a64f809e48f19c9ed2b59c419b6cd7b837395f7f6c14881756ca3d\")"
   ]
  },
  {
   "cell_type": "code",
   "execution_count": 7,
   "metadata": {},
   "outputs": [],
   "source": [
    "soup = BeautifulSoup(page.content, 'html.parser')"
   ]
  },
  {
   "cell_type": "code",
   "execution_count": 45,
   "metadata": {},
   "outputs": [
    {
     "data": {
      "text/plain": [
       "<div class=\"DetailsSummary--temperature--1Syw3\" data-testid=\"detailsTemperature\"><span class=\"DetailsSummary--highTempValue--3Oteu\" data-testid=\"TemperatureValue\">6°</span><span data-testid=\"lowTempValue\">/<span class=\"DetailsSummary--lowTempValue--3H-7I\" data-testid=\"TemperatureValue\">-1°</span></span></div>"
      ]
     },
     "execution_count": 45,
     "metadata": {},
     "output_type": "execute_result"
    }
   ],
   "source": [
    "weekday_day_one = soup.find(id = 'titleIndex1').find('h2')\n",
    "info_day_1 = soup.find(id = 'titleIndex1').find_all('div')\n",
    "info_day_1[0]"
   ]
  },
  {
   "cell_type": "code",
   "execution_count": 33,
   "metadata": {},
   "outputs": [
    {
     "name": "stdout",
     "output_type": "stream",
     "text": [
      "søn. 06\n",
      "6°/-1°\n",
      "Partly CloudyDelvist skyet\n",
      "Rain12%\n",
      "WindNV 13 km/t.\n"
     ]
    }
   ],
   "source": [
    "print(weekday_day_one.get_text())\n",
    "for info in info_day_1:\n",
    "    print(info.get_text())"
   ]
  },
  {
   "cell_type": "code",
   "execution_count": 48,
   "metadata": {},
   "outputs": [],
   "source": [
    "df = pd.DataFrame({'date': [], 'weekday': [], 'day_temp': [], 'night_temp': [], \n",
    "                  'description': [], 'rain_%': [],\n",
    "                  'wind_strength': [], 'wind_direction': []})"
   ]
  },
  {
   "cell_type": "code",
   "execution_count": 54,
   "metadata": {},
   "outputs": [],
   "source": [
    "for i in range(1,10):\n",
    "    data = soup.find(id = 'titleIndex{}'.format(i))\n",
    "    day = data.find('h2').get_text().split('. ')\n",
    "    info = data.find_all('div')\n",
    "    temp = info[0].get_text().split('/')\n",
    "    desc = info[1].get_text()\n",
    "    rain = re.findall(r'\\d+', info[2].get_text())[0]\n",
    "    wind = info[3].get_text().split(' ')\n",
    "    df.loc[i - 1] = [day[1], day[0], temp[0], temp[1], desc, rain, wind[1], wind[0]]"
   ]
  },
  {
   "cell_type": "code",
   "execution_count": 55,
   "metadata": {},
   "outputs": [
    {
     "data": {
      "text/html": [
       "<div>\n",
       "<style scoped>\n",
       "    .dataframe tbody tr th:only-of-type {\n",
       "        vertical-align: middle;\n",
       "    }\n",
       "\n",
       "    .dataframe tbody tr th {\n",
       "        vertical-align: top;\n",
       "    }\n",
       "\n",
       "    .dataframe thead th {\n",
       "        text-align: right;\n",
       "    }\n",
       "</style>\n",
       "<table border=\"1\" class=\"dataframe\">\n",
       "  <thead>\n",
       "    <tr style=\"text-align: right;\">\n",
       "      <th></th>\n",
       "      <th>date</th>\n",
       "      <th>weekday</th>\n",
       "      <th>day_temp</th>\n",
       "      <th>night_temp</th>\n",
       "      <th>description</th>\n",
       "      <th>rain_%</th>\n",
       "      <th>wind_strength</th>\n",
       "      <th>wind_direction</th>\n",
       "    </tr>\n",
       "  </thead>\n",
       "  <tbody>\n",
       "    <tr>\n",
       "      <th>0</th>\n",
       "      <td>06</td>\n",
       "      <td>søn</td>\n",
       "      <td>6°</td>\n",
       "      <td>-1°</td>\n",
       "      <td>Partly CloudyDelvist skyet</td>\n",
       "      <td>12</td>\n",
       "      <td>13</td>\n",
       "      <td>WindNV</td>\n",
       "    </tr>\n",
       "    <tr>\n",
       "      <th>1</th>\n",
       "      <td>07</td>\n",
       "      <td>man</td>\n",
       "      <td>8°</td>\n",
       "      <td>-2°</td>\n",
       "      <td>Mostly SunnyMest solrigt</td>\n",
       "      <td>12</td>\n",
       "      <td>12</td>\n",
       "      <td>WindNNV</td>\n",
       "    </tr>\n",
       "    <tr>\n",
       "      <th>2</th>\n",
       "      <td>08</td>\n",
       "      <td>tir</td>\n",
       "      <td>7°</td>\n",
       "      <td>-1°</td>\n",
       "      <td>Mostly SunnyMest solrigt</td>\n",
       "      <td>12</td>\n",
       "      <td>7</td>\n",
       "      <td>WindNNV</td>\n",
       "    </tr>\n",
       "    <tr>\n",
       "      <th>3</th>\n",
       "      <td>09</td>\n",
       "      <td>ons</td>\n",
       "      <td>6°</td>\n",
       "      <td>1°</td>\n",
       "      <td>Mostly SunnyMest solrigt</td>\n",
       "      <td>12</td>\n",
       "      <td>11</td>\n",
       "      <td>WindØSØ</td>\n",
       "    </tr>\n",
       "    <tr>\n",
       "      <th>4</th>\n",
       "      <td>10</td>\n",
       "      <td>tor</td>\n",
       "      <td>4°</td>\n",
       "      <td>1°</td>\n",
       "      <td>Partly CloudyDelvist skyet</td>\n",
       "      <td>8</td>\n",
       "      <td>23</td>\n",
       "      <td>WindSØ</td>\n",
       "    </tr>\n",
       "    <tr>\n",
       "      <th>5</th>\n",
       "      <td>11</td>\n",
       "      <td>fre</td>\n",
       "      <td>5°</td>\n",
       "      <td>1°</td>\n",
       "      <td>Mostly SunnyMest solrigt</td>\n",
       "      <td>5</td>\n",
       "      <td>26</td>\n",
       "      <td>WindSØ</td>\n",
       "    </tr>\n",
       "    <tr>\n",
       "      <th>6</th>\n",
       "      <td>12</td>\n",
       "      <td>lør</td>\n",
       "      <td>5°</td>\n",
       "      <td>1°</td>\n",
       "      <td>Partly CloudyDelvist skyet</td>\n",
       "      <td>8</td>\n",
       "      <td>24</td>\n",
       "      <td>WindSØ</td>\n",
       "    </tr>\n",
       "    <tr>\n",
       "      <th>7</th>\n",
       "      <td>13</td>\n",
       "      <td>søn</td>\n",
       "      <td>6°</td>\n",
       "      <td>1°</td>\n",
       "      <td>Partly CloudyDelvist skyet</td>\n",
       "      <td>7</td>\n",
       "      <td>20</td>\n",
       "      <td>WindØSØ</td>\n",
       "    </tr>\n",
       "    <tr>\n",
       "      <th>8</th>\n",
       "      <td>14</td>\n",
       "      <td>man</td>\n",
       "      <td>6°</td>\n",
       "      <td>2°</td>\n",
       "      <td>Partly CloudyDelvist skyet</td>\n",
       "      <td>18</td>\n",
       "      <td>21</td>\n",
       "      <td>WindØSØ</td>\n",
       "    </tr>\n",
       "  </tbody>\n",
       "</table>\n",
       "</div>"
      ],
      "text/plain": [
       "  date weekday day_temp night_temp                 description rain_%  \\\n",
       "0   06     søn       6°        -1°  Partly CloudyDelvist skyet     12   \n",
       "1   07     man       8°        -2°    Mostly SunnyMest solrigt     12   \n",
       "2   08     tir       7°        -1°    Mostly SunnyMest solrigt     12   \n",
       "3   09     ons       6°         1°    Mostly SunnyMest solrigt     12   \n",
       "4   10     tor       4°         1°  Partly CloudyDelvist skyet      8   \n",
       "5   11     fre       5°         1°    Mostly SunnyMest solrigt      5   \n",
       "6   12     lør       5°         1°  Partly CloudyDelvist skyet      8   \n",
       "7   13     søn       6°         1°  Partly CloudyDelvist skyet      7   \n",
       "8   14     man       6°         2°  Partly CloudyDelvist skyet     18   \n",
       "\n",
       "  wind_strength wind_direction  \n",
       "0            13         WindNV  \n",
       "1            12        WindNNV  \n",
       "2             7        WindNNV  \n",
       "3            11        WindØSØ  \n",
       "4            23         WindSØ  \n",
       "5            26         WindSØ  \n",
       "6            24         WindSØ  \n",
       "7            20        WindØSØ  \n",
       "8            21        WindØSØ  "
      ]
     },
     "execution_count": 55,
     "metadata": {},
     "output_type": "execute_result"
    }
   ],
   "source": [
    "df.head(10)"
   ]
  },
  {
   "cell_type": "code",
   "execution_count": 57,
   "metadata": {},
   "outputs": [],
   "source": [
    "df.to_csv('../Data/cleaned_data.csv', index = False)"
   ]
  }
 ],
 "metadata": {
  "kernelspec": {
   "display_name": "Python 3",
   "language": "python",
   "name": "python3"
  },
  "language_info": {
   "codemirror_mode": {
    "name": "ipython",
    "version": 3
   },
   "file_extension": ".py",
   "mimetype": "text/x-python",
   "name": "python",
   "nbconvert_exporter": "python",
   "pygments_lexer": "ipython3",
   "version": "3.8.3"
  }
 },
 "nbformat": 4,
 "nbformat_minor": 4
}
