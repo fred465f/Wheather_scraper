{
 "cells": [
  {
   "cell_type": "code",
   "execution_count": 1,
   "metadata": {},
   "outputs": [],
   "source": [
    "import pandas as pd\n",
    "import re"
   ]
  },
  {
   "cell_type": "code",
   "execution_count": 2,
   "metadata": {},
   "outputs": [
    {
     "data": {
      "text/html": [
       "<div>\n",
       "<style scoped>\n",
       "    .dataframe tbody tr th:only-of-type {\n",
       "        vertical-align: middle;\n",
       "    }\n",
       "\n",
       "    .dataframe tbody tr th {\n",
       "        vertical-align: top;\n",
       "    }\n",
       "\n",
       "    .dataframe thead th {\n",
       "        text-align: right;\n",
       "    }\n",
       "</style>\n",
       "<table border=\"1\" class=\"dataframe\">\n",
       "  <thead>\n",
       "    <tr style=\"text-align: right;\">\n",
       "      <th></th>\n",
       "      <th>date</th>\n",
       "      <th>weekday</th>\n",
       "      <th>day_temp</th>\n",
       "      <th>night_temp</th>\n",
       "      <th>description</th>\n",
       "      <th>rain_%</th>\n",
       "      <th>wind_strength</th>\n",
       "      <th>wind_direction</th>\n",
       "    </tr>\n",
       "  </thead>\n",
       "  <tbody>\n",
       "    <tr>\n",
       "      <th>0</th>\n",
       "      <td>6</td>\n",
       "      <td>søn</td>\n",
       "      <td>6°</td>\n",
       "      <td>-1°</td>\n",
       "      <td>Partly CloudyDelvist skyet</td>\n",
       "      <td>12</td>\n",
       "      <td>13</td>\n",
       "      <td>WindNV</td>\n",
       "    </tr>\n",
       "    <tr>\n",
       "      <th>1</th>\n",
       "      <td>7</td>\n",
       "      <td>man</td>\n",
       "      <td>8°</td>\n",
       "      <td>-2°</td>\n",
       "      <td>Mostly SunnyMest solrigt</td>\n",
       "      <td>12</td>\n",
       "      <td>12</td>\n",
       "      <td>WindNNV</td>\n",
       "    </tr>\n",
       "    <tr>\n",
       "      <th>2</th>\n",
       "      <td>8</td>\n",
       "      <td>tir</td>\n",
       "      <td>7°</td>\n",
       "      <td>-1°</td>\n",
       "      <td>Mostly SunnyMest solrigt</td>\n",
       "      <td>12</td>\n",
       "      <td>7</td>\n",
       "      <td>WindNNV</td>\n",
       "    </tr>\n",
       "    <tr>\n",
       "      <th>3</th>\n",
       "      <td>9</td>\n",
       "      <td>ons</td>\n",
       "      <td>6°</td>\n",
       "      <td>1°</td>\n",
       "      <td>Mostly SunnyMest solrigt</td>\n",
       "      <td>12</td>\n",
       "      <td>11</td>\n",
       "      <td>WindØSØ</td>\n",
       "    </tr>\n",
       "    <tr>\n",
       "      <th>4</th>\n",
       "      <td>10</td>\n",
       "      <td>tor</td>\n",
       "      <td>4°</td>\n",
       "      <td>1°</td>\n",
       "      <td>Partly CloudyDelvist skyet</td>\n",
       "      <td>8</td>\n",
       "      <td>23</td>\n",
       "      <td>WindSØ</td>\n",
       "    </tr>\n",
       "  </tbody>\n",
       "</table>\n",
       "</div>"
      ],
      "text/plain": [
       "   date weekday day_temp night_temp                 description  rain_%  \\\n",
       "0     6     søn       6°        -1°  Partly CloudyDelvist skyet      12   \n",
       "1     7     man       8°        -2°    Mostly SunnyMest solrigt      12   \n",
       "2     8     tir       7°        -1°    Mostly SunnyMest solrigt      12   \n",
       "3     9     ons       6°         1°    Mostly SunnyMest solrigt      12   \n",
       "4    10     tor       4°         1°  Partly CloudyDelvist skyet       8   \n",
       "\n",
       "   wind_strength wind_direction  \n",
       "0             13         WindNV  \n",
       "1             12        WindNNV  \n",
       "2              7        WindNNV  \n",
       "3             11        WindØSØ  \n",
       "4             23         WindSØ  "
      ]
     },
     "execution_count": 2,
     "metadata": {},
     "output_type": "execute_result"
    }
   ],
   "source": [
    "df = pd.read_csv('../Data/cleaned_data.csv')\n",
    "df.head()"
   ]
  },
  {
   "cell_type": "code",
   "execution_count": null,
   "metadata": {},
   "outputs": [],
   "source": []
  }
 ],
 "metadata": {
  "kernelspec": {
   "display_name": "Python 3",
   "language": "python",
   "name": "python3"
  },
  "language_info": {
   "codemirror_mode": {
    "name": "ipython",
    "version": 3
   },
   "file_extension": ".py",
   "mimetype": "text/x-python",
   "name": "python",
   "nbconvert_exporter": "python",
   "pygments_lexer": "ipython3",
   "version": "3.8.3"
  }
 },
 "nbformat": 4,
 "nbformat_minor": 4
}
