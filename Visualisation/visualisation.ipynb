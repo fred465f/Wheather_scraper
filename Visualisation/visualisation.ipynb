{
 "cells": [
  {
   "cell_type": "code",
   "execution_count": 1,
   "metadata": {},
   "outputs": [],
   "source": [
    "import pandas as pd\n",
    "import matplotlib.pyplot as plt\n",
    "import seaborn as sns\n",
    "import random\n",
    "import numpy as np"
   ]
  },
  {
   "cell_type": "code",
   "execution_count": 2,
   "metadata": {},
   "outputs": [],
   "source": [
    "plt.rc(\"axes\", labelsize=18)\n",
    "plt.rc(\"xtick\", labelsize=16, top=True, direction=\"in\")\n",
    "plt.rc(\"ytick\", labelsize=16, right=True, direction=\"in\")\n",
    "plt.rc(\"axes\", titlesize=18)\n",
    "plt.rc(\"legend\", fontsize=16)\n",
    "plt.rc(\"figure\", figsize=(7, 5), titlesize=18)"
   ]
  },
  {
   "cell_type": "code",
   "execution_count": 3,
   "metadata": {},
   "outputs": [],
   "source": [
    "df = pd.read_csv('../Data_Cleaned/cleaned_data.csv')"
   ]
  },
  {
   "cell_type": "code",
   "execution_count": 4,
   "metadata": {},
   "outputs": [
    {
     "data": {
      "text/html": [
       "<div>\n",
       "<style scoped>\n",
       "    .dataframe tbody tr th:only-of-type {\n",
       "        vertical-align: middle;\n",
       "    }\n",
       "\n",
       "    .dataframe tbody tr th {\n",
       "        vertical-align: top;\n",
       "    }\n",
       "\n",
       "    .dataframe thead th {\n",
       "        text-align: right;\n",
       "    }\n",
       "</style>\n",
       "<table border=\"1\" class=\"dataframe\">\n",
       "  <thead>\n",
       "    <tr style=\"text-align: right;\">\n",
       "      <th></th>\n",
       "      <th>date</th>\n",
       "      <th>weekday</th>\n",
       "      <th>day_temp</th>\n",
       "      <th>night_temp</th>\n",
       "      <th>rain_%</th>\n",
       "      <th>wind_strength</th>\n",
       "      <th>wind_direction</th>\n",
       "      <th>description_dk</th>\n",
       "      <th>description_uk</th>\n",
       "    </tr>\n",
       "  </thead>\n",
       "  <tbody>\n",
       "    <tr>\n",
       "      <th>0</th>\n",
       "      <td>6</td>\n",
       "      <td>søn</td>\n",
       "      <td>6</td>\n",
       "      <td>-1</td>\n",
       "      <td>12</td>\n",
       "      <td>13</td>\n",
       "      <td>NV</td>\n",
       "      <td>Delvist skyet</td>\n",
       "      <td>Partly Cloudy</td>\n",
       "    </tr>\n",
       "    <tr>\n",
       "      <th>1</th>\n",
       "      <td>7</td>\n",
       "      <td>man</td>\n",
       "      <td>8</td>\n",
       "      <td>-2</td>\n",
       "      <td>12</td>\n",
       "      <td>12</td>\n",
       "      <td>NNV</td>\n",
       "      <td>Mest solrigt</td>\n",
       "      <td>Mostly Sunny</td>\n",
       "    </tr>\n",
       "    <tr>\n",
       "      <th>2</th>\n",
       "      <td>8</td>\n",
       "      <td>tir</td>\n",
       "      <td>7</td>\n",
       "      <td>-1</td>\n",
       "      <td>12</td>\n",
       "      <td>7</td>\n",
       "      <td>NNV</td>\n",
       "      <td>Mest solrigt</td>\n",
       "      <td>Mostly Sunny</td>\n",
       "    </tr>\n",
       "    <tr>\n",
       "      <th>3</th>\n",
       "      <td>9</td>\n",
       "      <td>ons</td>\n",
       "      <td>6</td>\n",
       "      <td>1</td>\n",
       "      <td>12</td>\n",
       "      <td>11</td>\n",
       "      <td>ØSØ</td>\n",
       "      <td>Mest solrigt</td>\n",
       "      <td>Mostly Sunny</td>\n",
       "    </tr>\n",
       "    <tr>\n",
       "      <th>4</th>\n",
       "      <td>10</td>\n",
       "      <td>tor</td>\n",
       "      <td>4</td>\n",
       "      <td>1</td>\n",
       "      <td>8</td>\n",
       "      <td>23</td>\n",
       "      <td>SØ</td>\n",
       "      <td>Delvist skyet</td>\n",
       "      <td>Partly Cloudy</td>\n",
       "    </tr>\n",
       "  </tbody>\n",
       "</table>\n",
       "</div>"
      ],
      "text/plain": [
       "   date weekday  day_temp  night_temp  rain_%  wind_strength wind_direction  \\\n",
       "0     6     søn         6          -1      12             13             NV   \n",
       "1     7     man         8          -2      12             12            NNV   \n",
       "2     8     tir         7          -1      12              7            NNV   \n",
       "3     9     ons         6           1      12             11            ØSØ   \n",
       "4    10     tor         4           1       8             23             SØ   \n",
       "\n",
       "  description_dk description_uk  \n",
       "0  Delvist skyet  Partly Cloudy  \n",
       "1   Mest solrigt   Mostly Sunny  \n",
       "2   Mest solrigt   Mostly Sunny  \n",
       "3   Mest solrigt   Mostly Sunny  \n",
       "4  Delvist skyet  Partly Cloudy  "
      ]
     },
     "execution_count": 4,
     "metadata": {},
     "output_type": "execute_result"
    }
   ],
   "source": [
    "df.head()"
   ]
  },
  {
   "cell_type": "code",
   "execution_count": 5,
   "metadata": {},
   "outputs": [],
   "source": [
    "bootstrap = pd.DataFrame({'day_temp_mean': [], 'night_temp_mean': []})\n",
    "size = len(df) - 1\n",
    "means_day = []\n",
    "means_night = []\n",
    "for i in range(10000):\n",
    "    data_day = []\n",
    "    data_night = []\n",
    "    for i in range(size):\n",
    "        data_day.append(list(df['day_temp'])[random.randint(0,size)])\n",
    "        data_night.append(list(df['night_temp'])[random.randint(0,size)])\n",
    "    means_day.append(np.mean(data_day))\n",
    "    means_night.append(np.mean(data_night))\n",
    "bootstrap['day_temp_mean'] = means_day\n",
    "bootstrap['night_temp_mean'] = means_night"
   ]
  },
  {
   "cell_type": "code",
   "execution_count": 6,
   "metadata": {},
   "outputs": [
    {
     "data": {
      "text/plain": [
       "<matplotlib.axes._subplots.AxesSubplot at 0x19ccc2e6490>"
      ]
     },
     "execution_count": 6,
     "metadata": {},
     "output_type": "execute_result"
    },
    {
     "data": {
      "image/png": "[encoded data removed]",
      "text/plain": [
       "<Figure size 504x360 with 1 Axes>"
      ]
     },
     "metadata": {
      "needs_background": "light"
     },
     "output_type": "display_data"
    }
   ],
   "source": [
    "sns.kdeplot(data = bootstrap, x = 'day_temp_mean', multiple = 'stack')"
   ]
  },
  {
   "cell_type": "code",
   "execution_count": 7,
   "metadata": {},
   "outputs": [
    {
     "data": {
      "text/plain": [
       "<matplotlib.axes._subplots.AxesSubplot at 0x19ccc46cb80>"
      ]
     },
     "execution_count": 7,
     "metadata": {},
     "output_type": "execute_result"
    },
    {
     "data": {
      "image/png": "[encoded data removed]",
      "text/plain": [
       "<Figure size 504x360 with 1 Axes>"
      ]
     },
     "metadata": {
      "needs_background": "light"
     },
     "output_type": "display_data"
    }
   ],
   "source": [
    "sns.kdeplot(data = bootstrap, x = 'night_temp_mean', multiple = 'stack')"
   ]
  }
 ],
 "metadata": {
  "kernelspec": {
   "display_name": "Python 3",
   "language": "python",
   "name": "python3"
  },
  "language_info": {
   "codemirror_mode": {
    "name": "ipython",
    "version": 3
   },
   "file_extension": ".py",
   "mimetype": "text/x-python",
   "name": "python",
   "nbconvert_exporter": "python",
   "pygments_lexer": "ipython3",
   "version": "3.8.3"
  }
 },
 "nbformat": 4,
 "nbformat_minor": 4
}
